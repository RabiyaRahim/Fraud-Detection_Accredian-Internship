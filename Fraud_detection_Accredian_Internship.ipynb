{
 "cells": [
  {
   "cell_type": "code",
   "execution_count": 1,
   "id": "17eecc66",
   "metadata": {},
   "outputs": [],
   "source": [
    "import numpy as np\n",
    "import pandas as pd\n",
    "import seaborn as sns\n",
    "import matplotlib.pyplot as plt\n",
    "from scipy import stats\n",
    "import random\n",
    "from sklearn.preprocessing import LabelEncoder\n",
    "from statsmodels.stats.outliers_influence import variance_inflation_factor"
   ]
  },
  {
   "cell_type": "code",
   "execution_count": 2,
   "id": "64e6bd2f",
   "metadata": {},
   "outputs": [],
   "source": [
    "from sklearn.preprocessing import StandardScaler\n",
    "from sklearn.model_selection import train_test_split\n",
    "from sklearn.tree import DecisionTreeClassifier\n",
    "import itertools\n",
    "from collections import Counter\n",
    "import sklearn.metrics as metrics\n",
    "from sklearn.metrics import classification_report, confusion_matrix, ConfusionMatrixDisplay"
   ]
  },
  {
   "cell_type": "code",
   "execution_count": 56,
   "id": "ad0abd82",
   "metadata": {},
   "outputs": [],
   "source": [
    "from sklearn.metrics import confusion_matrix"
   ]
  },
  {
   "cell_type": "code",
   "execution_count": 3,
   "id": "d1c3d347",
   "metadata": {},
   "outputs": [],
   "source": [
    "df=pd.read_csv(\"Fraud.csv\")"
   ]
  },
  {
   "cell_type": "code",
   "execution_count": 4,
   "id": "fbe0b10a",
   "metadata": {},
   "outputs": [
    {
     "data": {
      "text/html": [
       "<div>\n",
       "<style scoped>\n",
       "    .dataframe tbody tr th:only-of-type {\n",
       "        vertical-align: middle;\n",
       "    }\n",
       "\n",
       "    .dataframe tbody tr th {\n",
       "        vertical-align: top;\n",
       "    }\n",
       "\n",
       "    .dataframe thead th {\n",
       "        text-align: right;\n",
       "    }\n",
       "</style>\n",
       "<table border=\"1\" class=\"dataframe\">\n",
       "  <thead>\n",
       "    <tr style=\"text-align: right;\">\n",
       "      <th></th>\n",
       "      <th>step</th>\n",
       "      <th>type</th>\n",
       "      <th>amount</th>\n",
       "      <th>nameOrig</th>\n",
       "      <th>oldbalanceOrg</th>\n",
       "      <th>newbalanceOrig</th>\n",
       "      <th>nameDest</th>\n",
       "      <th>oldbalanceDest</th>\n",
       "      <th>newbalanceDest</th>\n",
       "      <th>isFraud</th>\n",
       "      <th>isFlaggedFraud</th>\n",
       "    </tr>\n",
       "  </thead>\n",
       "  <tbody>\n",
       "    <tr>\n",
       "      <th>0</th>\n",
       "      <td>1</td>\n",
       "      <td>PAYMENT</td>\n",
       "      <td>9839.64</td>\n",
       "      <td>C1231006815</td>\n",
       "      <td>170136.0</td>\n",
       "      <td>160296.36</td>\n",
       "      <td>M1979787155</td>\n",
       "      <td>0.0</td>\n",
       "      <td>0.0</td>\n",
       "      <td>0</td>\n",
       "      <td>0</td>\n",
       "    </tr>\n",
       "    <tr>\n",
       "      <th>1</th>\n",
       "      <td>1</td>\n",
       "      <td>PAYMENT</td>\n",
       "      <td>1864.28</td>\n",
       "      <td>C1666544295</td>\n",
       "      <td>21249.0</td>\n",
       "      <td>19384.72</td>\n",
       "      <td>M2044282225</td>\n",
       "      <td>0.0</td>\n",
       "      <td>0.0</td>\n",
       "      <td>0</td>\n",
       "      <td>0</td>\n",
       "    </tr>\n",
       "    <tr>\n",
       "      <th>2</th>\n",
       "      <td>1</td>\n",
       "      <td>TRANSFER</td>\n",
       "      <td>181.00</td>\n",
       "      <td>C1305486145</td>\n",
       "      <td>181.0</td>\n",
       "      <td>0.00</td>\n",
       "      <td>C553264065</td>\n",
       "      <td>0.0</td>\n",
       "      <td>0.0</td>\n",
       "      <td>1</td>\n",
       "      <td>0</td>\n",
       "    </tr>\n",
       "    <tr>\n",
       "      <th>3</th>\n",
       "      <td>1</td>\n",
       "      <td>CASH_OUT</td>\n",
       "      <td>181.00</td>\n",
       "      <td>C840083671</td>\n",
       "      <td>181.0</td>\n",
       "      <td>0.00</td>\n",
       "      <td>C38997010</td>\n",
       "      <td>21182.0</td>\n",
       "      <td>0.0</td>\n",
       "      <td>1</td>\n",
       "      <td>0</td>\n",
       "    </tr>\n",
       "    <tr>\n",
       "      <th>4</th>\n",
       "      <td>1</td>\n",
       "      <td>PAYMENT</td>\n",
       "      <td>11668.14</td>\n",
       "      <td>C2048537720</td>\n",
       "      <td>41554.0</td>\n",
       "      <td>29885.86</td>\n",
       "      <td>M1230701703</td>\n",
       "      <td>0.0</td>\n",
       "      <td>0.0</td>\n",
       "      <td>0</td>\n",
       "      <td>0</td>\n",
       "    </tr>\n",
       "  </tbody>\n",
       "</table>\n",
       "</div>"
      ],
      "text/plain": [
       "   step      type    amount     nameOrig  oldbalanceOrg  newbalanceOrig  \\\n",
       "0     1   PAYMENT   9839.64  C1231006815       170136.0       160296.36   \n",
       "1     1   PAYMENT   1864.28  C1666544295        21249.0        19384.72   \n",
       "2     1  TRANSFER    181.00  C1305486145          181.0            0.00   \n",
       "3     1  CASH_OUT    181.00   C840083671          181.0            0.00   \n",
       "4     1   PAYMENT  11668.14  C2048537720        41554.0        29885.86   \n",
       "\n",
       "      nameDest  oldbalanceDest  newbalanceDest  isFraud  isFlaggedFraud  \n",
       "0  M1979787155             0.0             0.0        0               0  \n",
       "1  M2044282225             0.0             0.0        0               0  \n",
       "2   C553264065             0.0             0.0        1               0  \n",
       "3    C38997010         21182.0             0.0        1               0  \n",
       "4  M1230701703             0.0             0.0        0               0  "
      ]
     },
     "execution_count": 4,
     "metadata": {},
     "output_type": "execute_result"
    }
   ],
   "source": [
    "df.head()"
   ]
  },
  {
   "cell_type": "code",
   "execution_count": 5,
   "id": "5dc7bfef",
   "metadata": {},
   "outputs": [
    {
     "data": {
      "text/plain": [
       "Index(['step', 'type', 'amount', 'nameOrig', 'oldbalanceOrg', 'newbalanceOrig',\n",
       "       'nameDest', 'oldbalanceDest', 'newbalanceDest', 'isFraud',\n",
       "       'isFlaggedFraud'],\n",
       "      dtype='object')"
      ]
     },
     "execution_count": 5,
     "metadata": {},
     "output_type": "execute_result"
    }
   ],
   "source": [
    "df.columns"
   ]
  },
  {
   "cell_type": "markdown",
   "id": "f262a8cf",
   "metadata": {},
   "source": [
    "### 1.Data cleaning including missing values, outliers and multi-collinearity. \n"
   ]
  },
  {
   "cell_type": "code",
   "execution_count": 6,
   "id": "c5d199b9",
   "metadata": {},
   "outputs": [
    {
     "data": {
      "text/plain": [
       "step              0\n",
       "type              0\n",
       "amount            0\n",
       "nameOrig          0\n",
       "oldbalanceOrg     0\n",
       "newbalanceOrig    0\n",
       "nameDest          0\n",
       "oldbalanceDest    0\n",
       "newbalanceDest    0\n",
       "isFraud           0\n",
       "isFlaggedFraud    0\n",
       "dtype: int64"
      ]
     },
     "execution_count": 6,
     "metadata": {},
     "output_type": "execute_result"
    }
   ],
   "source": [
    "# checking Null Values\n",
    "df.isnull().sum()"
   ]
  },
  {
   "cell_type": "raw",
   "id": "b1c742bb",
   "metadata": {},
   "source": [
    "From above table dataset has no null values"
   ]
  },
  {
   "cell_type": "code",
   "execution_count": 7,
   "id": "f7d5ea4e",
   "metadata": {},
   "outputs": [
    {
     "data": {
      "text/plain": [
       "(6362620, 11)"
      ]
     },
     "execution_count": 7,
     "metadata": {},
     "output_type": "execute_result"
    }
   ],
   "source": [
    "df.shape"
   ]
  },
  {
   "cell_type": "code",
   "execution_count": 8,
   "id": "d8565f80",
   "metadata": {},
   "outputs": [
    {
     "data": {
      "text/html": [
       "<div>\n",
       "<style scoped>\n",
       "    .dataframe tbody tr th:only-of-type {\n",
       "        vertical-align: middle;\n",
       "    }\n",
       "\n",
       "    .dataframe tbody tr th {\n",
       "        vertical-align: top;\n",
       "    }\n",
       "\n",
       "    .dataframe thead th {\n",
       "        text-align: right;\n",
       "    }\n",
       "</style>\n",
       "<table border=\"1\" class=\"dataframe\">\n",
       "  <thead>\n",
       "    <tr style=\"text-align: right;\">\n",
       "      <th></th>\n",
       "      <th>step</th>\n",
       "      <th>amount</th>\n",
       "      <th>oldbalanceOrg</th>\n",
       "      <th>newbalanceOrig</th>\n",
       "      <th>oldbalanceDest</th>\n",
       "      <th>newbalanceDest</th>\n",
       "      <th>isFraud</th>\n",
       "      <th>isFlaggedFraud</th>\n",
       "    </tr>\n",
       "  </thead>\n",
       "  <tbody>\n",
       "    <tr>\n",
       "      <th>count</th>\n",
       "      <td>6.362620e+06</td>\n",
       "      <td>6.362620e+06</td>\n",
       "      <td>6.362620e+06</td>\n",
       "      <td>6.362620e+06</td>\n",
       "      <td>6.362620e+06</td>\n",
       "      <td>6.362620e+06</td>\n",
       "      <td>6.362620e+06</td>\n",
       "      <td>6.362620e+06</td>\n",
       "    </tr>\n",
       "    <tr>\n",
       "      <th>mean</th>\n",
       "      <td>2.433972e+02</td>\n",
       "      <td>1.798619e+05</td>\n",
       "      <td>8.338831e+05</td>\n",
       "      <td>8.551137e+05</td>\n",
       "      <td>1.100702e+06</td>\n",
       "      <td>1.224996e+06</td>\n",
       "      <td>1.290820e-03</td>\n",
       "      <td>2.514687e-06</td>\n",
       "    </tr>\n",
       "    <tr>\n",
       "      <th>std</th>\n",
       "      <td>1.423320e+02</td>\n",
       "      <td>6.038582e+05</td>\n",
       "      <td>2.888243e+06</td>\n",
       "      <td>2.924049e+06</td>\n",
       "      <td>3.399180e+06</td>\n",
       "      <td>3.674129e+06</td>\n",
       "      <td>3.590480e-02</td>\n",
       "      <td>1.585775e-03</td>\n",
       "    </tr>\n",
       "    <tr>\n",
       "      <th>min</th>\n",
       "      <td>1.000000e+00</td>\n",
       "      <td>0.000000e+00</td>\n",
       "      <td>0.000000e+00</td>\n",
       "      <td>0.000000e+00</td>\n",
       "      <td>0.000000e+00</td>\n",
       "      <td>0.000000e+00</td>\n",
       "      <td>0.000000e+00</td>\n",
       "      <td>0.000000e+00</td>\n",
       "    </tr>\n",
       "    <tr>\n",
       "      <th>25%</th>\n",
       "      <td>1.560000e+02</td>\n",
       "      <td>1.338957e+04</td>\n",
       "      <td>0.000000e+00</td>\n",
       "      <td>0.000000e+00</td>\n",
       "      <td>0.000000e+00</td>\n",
       "      <td>0.000000e+00</td>\n",
       "      <td>0.000000e+00</td>\n",
       "      <td>0.000000e+00</td>\n",
       "    </tr>\n",
       "    <tr>\n",
       "      <th>50%</th>\n",
       "      <td>2.390000e+02</td>\n",
       "      <td>7.487194e+04</td>\n",
       "      <td>1.420800e+04</td>\n",
       "      <td>0.000000e+00</td>\n",
       "      <td>1.327057e+05</td>\n",
       "      <td>2.146614e+05</td>\n",
       "      <td>0.000000e+00</td>\n",
       "      <td>0.000000e+00</td>\n",
       "    </tr>\n",
       "    <tr>\n",
       "      <th>75%</th>\n",
       "      <td>3.350000e+02</td>\n",
       "      <td>2.087215e+05</td>\n",
       "      <td>1.073152e+05</td>\n",
       "      <td>1.442584e+05</td>\n",
       "      <td>9.430367e+05</td>\n",
       "      <td>1.111909e+06</td>\n",
       "      <td>0.000000e+00</td>\n",
       "      <td>0.000000e+00</td>\n",
       "    </tr>\n",
       "    <tr>\n",
       "      <th>max</th>\n",
       "      <td>7.430000e+02</td>\n",
       "      <td>9.244552e+07</td>\n",
       "      <td>5.958504e+07</td>\n",
       "      <td>4.958504e+07</td>\n",
       "      <td>3.560159e+08</td>\n",
       "      <td>3.561793e+08</td>\n",
       "      <td>1.000000e+00</td>\n",
       "      <td>1.000000e+00</td>\n",
       "    </tr>\n",
       "  </tbody>\n",
       "</table>\n",
       "</div>"
      ],
      "text/plain": [
       "               step        amount  oldbalanceOrg  newbalanceOrig  \\\n",
       "count  6.362620e+06  6.362620e+06   6.362620e+06    6.362620e+06   \n",
       "mean   2.433972e+02  1.798619e+05   8.338831e+05    8.551137e+05   \n",
       "std    1.423320e+02  6.038582e+05   2.888243e+06    2.924049e+06   \n",
       "min    1.000000e+00  0.000000e+00   0.000000e+00    0.000000e+00   \n",
       "25%    1.560000e+02  1.338957e+04   0.000000e+00    0.000000e+00   \n",
       "50%    2.390000e+02  7.487194e+04   1.420800e+04    0.000000e+00   \n",
       "75%    3.350000e+02  2.087215e+05   1.073152e+05    1.442584e+05   \n",
       "max    7.430000e+02  9.244552e+07   5.958504e+07    4.958504e+07   \n",
       "\n",
       "       oldbalanceDest  newbalanceDest       isFraud  isFlaggedFraud  \n",
       "count    6.362620e+06    6.362620e+06  6.362620e+06    6.362620e+06  \n",
       "mean     1.100702e+06    1.224996e+06  1.290820e-03    2.514687e-06  \n",
       "std      3.399180e+06    3.674129e+06  3.590480e-02    1.585775e-03  \n",
       "min      0.000000e+00    0.000000e+00  0.000000e+00    0.000000e+00  \n",
       "25%      0.000000e+00    0.000000e+00  0.000000e+00    0.000000e+00  \n",
       "50%      1.327057e+05    2.146614e+05  0.000000e+00    0.000000e+00  \n",
       "75%      9.430367e+05    1.111909e+06  0.000000e+00    0.000000e+00  \n",
       "max      3.560159e+08    3.561793e+08  1.000000e+00    1.000000e+00  "
      ]
     },
     "execution_count": 8,
     "metadata": {},
     "output_type": "execute_result"
    }
   ],
   "source": [
    "df.describe()"
   ]
  },
  {
   "cell_type": "raw",
   "id": "fbf77a4a",
   "metadata": {},
   "source": [
    "Here the dataset is big.So for easiness of processing we can do sampling."
   ]
  },
  {
   "cell_type": "code",
   "execution_count": 9,
   "id": "e3053dde",
   "metadata": {},
   "outputs": [],
   "source": [
    "df_sample=df.sample(frac=0.5)"
   ]
  },
  {
   "cell_type": "code",
   "execution_count": 10,
   "id": "8aaf8d1d",
   "metadata": {},
   "outputs": [
    {
     "data": {
      "text/plain": [
       "(3181310, 11)"
      ]
     },
     "execution_count": 10,
     "metadata": {},
     "output_type": "execute_result"
    }
   ],
   "source": [
    "df_sample.shape"
   ]
  },
  {
   "cell_type": "markdown",
   "id": "2923e207",
   "metadata": {},
   "source": [
    "#### Let's Check the variable Type"
   ]
  },
  {
   "cell_type": "code",
   "execution_count": 11,
   "id": "fa2e1e5a",
   "metadata": {},
   "outputs": [
    {
     "name": "stdout",
     "output_type": "stream",
     "text": [
      "<class 'pandas.core.frame.DataFrame'>\n",
      "Int64Index: 3181310 entries, 4888867 to 249679\n",
      "Data columns (total 11 columns):\n",
      " #   Column          Dtype  \n",
      "---  ------          -----  \n",
      " 0   step            int64  \n",
      " 1   type            object \n",
      " 2   amount          float64\n",
      " 3   nameOrig        object \n",
      " 4   oldbalanceOrg   float64\n",
      " 5   newbalanceOrig  float64\n",
      " 6   nameDest        object \n",
      " 7   oldbalanceDest  float64\n",
      " 8   newbalanceDest  float64\n",
      " 9   isFraud         int64  \n",
      " 10  isFlaggedFraud  int64  \n",
      "dtypes: float64(5), int64(3), object(3)\n",
      "memory usage: 291.3+ MB\n",
      "The unique values for step column: \n",
      " [  1   2   3   4   5   6   7   8   9  10  11  12  13  14  15  16  17  18\n",
      "  19  20  21  22  23  24  25  26  27  28  29  30  31  32  33  34  35  36\n",
      "  37  38  39  40  41  42  43  44  45  46  47  48  49  50  51  52  53  54\n",
      "  55  56  57  58  59  60  61  62  63  64  65  66  67  68  69  70  71  72\n",
      "  73  74  75  76  77  78  79  80  81  82  83  84  85  86  87  88  89  90\n",
      "  91  92  93  94  95  96  97  98  99 100 101 102 103 104 105 106 107 108\n",
      " 109 110 111 112 113 114 115 116 117 118 119 120 121 122 123 124 125 126\n",
      " 127 128 129 130 131 132 133 134 135 136 137 138 139 140 141 142 143 144\n",
      " 145 146 147 148 149 150 151 152 153 154 155 156 157 158 159 160 161 162\n",
      " 163 164 165 166 167 168 169 170 171 172 173 174 175 176 177 178 179 180\n",
      " 181 182 183 184 185 186 187 188 189 190 191 192 193 194 195 196 197 198\n",
      " 199 200 201 202 203 204 205 206 207 208 209 210 211 212 213 214 215 216\n",
      " 217 218 219 220 221 222 223 224 225 226 227 228 229 230 231 232 233 234\n",
      " 235 236 237 238 239 240 241 242 243 244 245 246 247 248 249 250 251 252\n",
      " 253 254 255 256 257 258 259 260 261 262 263 264 265 266 267 268 269 270\n",
      " 271 272 273 274 275 276 277 278 279 280 281 282 283 284 285 286 287 288\n",
      " 289 290 291 292 293 294 295 296 297 298 299 300 301 302 303 304 305 306\n",
      " 307 308 309 310 311 312 313 314 315 316 317 318 319 320 321 322 323 324\n",
      " 325 326 327 328 329 330 331 332 333 334 335 336 337 338 339 340 341 342\n",
      " 343 344 345 346 347 348 349 350 351 352 353 354 355 356 357 358 359 360\n",
      " 361 362 363 364 365 366 367 368 369 370 371 372 373 374 375 376 377 378\n",
      " 379 380 381 382 383 384 385 386 387 388 389 390 391 392 393 394 395 396\n",
      " 397 398 399 400 401 402 403 404 405 406 407 408 409 410 411 412 413 414\n",
      " 415 416 417 418 419 420 421 422 423 424 425 426 427 428 429 430 431 432\n",
      " 433 434 435 436 437 438 439 440 441 442 443 444 445 446 447 448 449 450\n",
      " 451 452 453 454 455 456 457 458 459 460 461 462 463 464 465 466 467 468\n",
      " 469 470 471 472 473 474 475 476 477 478 479 480 481 482 483 484 485 486\n",
      " 487 488 489 490 491 492 493 494 495 496 497 498 499 500 501 502 503 504\n",
      " 505 506 507 508 509 510 511 512 513 514 515 516 517 518 519 520 521 522\n",
      " 523 524 525 526 527 528 529 530 531 532 533 534 535 536 537 538 539 540\n",
      " 541 542 543 544 545 546 547 548 549 550 551 552 553 554 555 556 557 558\n",
      " 559 560 561 562 563 564 565 566 567 568 569 570 571 572 573 574 575 576\n",
      " 577 578 579 580 581 582 583 584 585 586 587 588 589 590 591 592 593 594\n",
      " 595 596 597 598 599 600 601 602 603 604 605 606 607 608 609 610 611 612\n",
      " 613 614 615 616 617 618 619 620 621 622 623 624 625 626 627 628 629 630\n",
      " 631 632 633 634 635 636 637 638 639 640 641 642 643 644 645 646 647 648\n",
      " 649 650 651 652 653 654 655 656 657 658 659 660 661 662 663 664 665 666\n",
      " 667 668 669 670 671 672 673 674 675 676 677 678 679 680 681 682 683 684\n",
      " 685 686 687 688 689 690 691 692 693 694 695 696 697 698 699 700 701 702\n",
      " 703 704 705 706 707 708 709 710 711 712 713 714 715 716 717 718 719 720\n",
      " 721 722 723 724 725 726 727 728 729 730 731 732 733 734 735 736 737 738\n",
      " 739 740 741 742 743]\n",
      "\n",
      "The unique values for type column: \n",
      " ['PAYMENT' 'TRANSFER' 'CASH_OUT' 'DEBIT' 'CASH_IN']\n",
      "\n",
      "The unique values for amount column: \n",
      " [9.83964000e+03 1.86428000e+03 1.81000000e+02 ... 3.39682130e+05\n",
      " 6.31140928e+06 8.50002520e+05]\n",
      "\n",
      "The unique values for nameOrig column: \n",
      " ['C1231006815' 'C1666544295' 'C1305486145' ... 'C1162922333' 'C1685995037'\n",
      " 'C1280323807']\n",
      "\n",
      "The unique values for oldbalanceOrg column: \n",
      " [1.70136000e+05 2.12490000e+04 1.81000000e+02 ... 3.39682130e+05\n",
      " 6.31140928e+06 8.50002520e+05]\n",
      "\n",
      "The unique values for newbalanceOrig column: \n",
      " [1.60296360e+05 1.93847200e+04 0.00000000e+00 ... 2.56745479e+07\n",
      " 1.56745479e+07 5.67454789e+06]\n",
      "\n",
      "The unique values for nameDest column: \n",
      " ['M1979787155' 'M2044282225' 'C553264065' ... 'C1850423904' 'C1881841831'\n",
      " 'C2080388513']\n",
      "\n",
      "The unique values for oldbalanceDest column: \n",
      " [      0.     21182.     41898.   ...  503464.5    68488.84 6510099.11]\n",
      "\n",
      "The unique values for newbalanceDest column: \n",
      " [      0.     40348.79  157982.12 ... 1762283.33 6379898.11 7360101.63]\n",
      "\n",
      "The unique values for isFraud column: \n",
      " [0 1]\n",
      "\n",
      "The unique values for isFlaggedFraud column: \n",
      " [0 1]\n",
      "\n"
     ]
    }
   ],
   "source": [
    "df_sample.info()\n",
    "for i in df_sample.columns:\n",
    "    print(f\"The unique values for {i} column: \\n\",df[i].unique())\n",
    "    print()"
   ]
  },
  {
   "cell_type": "code",
   "execution_count": 12,
   "id": "44adf909",
   "metadata": {},
   "outputs": [],
   "source": [
    "df_newsample=df_sample"
   ]
  },
  {
   "cell_type": "markdown",
   "id": "34e01dc3",
   "metadata": {},
   "source": [
    "#### Let's Check the correlation between variables"
   ]
  },
  {
   "cell_type": "code",
   "execution_count": 13,
   "id": "6793fa6c",
   "metadata": {},
   "outputs": [
    {
     "data": {
      "text/plain": [
       "<AxesSubplot:>"
      ]
     },
     "execution_count": 13,
     "metadata": {},
     "output_type": "execute_result"
    },
    {
     "data": {
      "image/png": "[encoded data removed]",
      "text/plain": [
       "<Figure size 2000x1500 with 2 Axes>"
      ]
     },
     "metadata": {},
     "output_type": "display_data"
    }
   ],
   "source": [
    "plt.figure(figsize=(20,15))\n",
    "sns.heatmap(df_sample.corr(),cbar=True,annot=True,cmap=\"Blues\")"
   ]
  },
  {
   "cell_type": "code",
   "execution_count": 14,
   "id": "a8eae82c",
   "metadata": {},
   "outputs": [
    {
     "data": {
      "text/plain": [
       "Index(['step', 'type', 'amount', 'nameOrig', 'oldbalanceOrg', 'newbalanceOrig',\n",
       "       'nameDest', 'oldbalanceDest', 'newbalanceDest', 'isFraud',\n",
       "       'isFlaggedFraud'],\n",
       "      dtype='object')"
      ]
     },
     "execution_count": 14,
     "metadata": {},
     "output_type": "execute_result"
    }
   ],
   "source": [
    "df_sample.columns"
   ]
  },
  {
   "cell_type": "markdown",
   "id": "c0075d7f",
   "metadata": {},
   "source": [
    "#### Number of Legit and Fraud Transactions"
   ]
  },
  {
   "cell_type": "code",
   "execution_count": 15,
   "id": "16b696d4",
   "metadata": {},
   "outputs": [],
   "source": [
    "legit=len(df_sample[df_sample.isFraud==0])\n",
    "fraud=len(df_sample[df_sample.isFraud==1])\n",
    "percent_legit=(legit/(fraud+legit))*100\n",
    "percent_fraud=(fraud/(fraud+legit))*100"
   ]
  },
  {
   "cell_type": "code",
   "execution_count": 16,
   "id": "84652029",
   "metadata": {},
   "outputs": [
    {
     "name": "stdout",
     "output_type": "stream",
     "text": [
      "Num of Legit transactions: 3177223\n",
      "Num of Fraud transactions: 4087\n",
      "Percent of Legit transactions:99.8715%\n",
      "Percent of Frauf transactions:0.1285%\n"
     ]
    }
   ],
   "source": [
    "print(\"Num of Legit transactions:\",legit)\n",
    "print(\"Num of Fraud transactions:\",fraud)\n",
    "print(\"Percent of Legit transactions:{:.4f}%\".format(percent_legit))\n",
    "print(\"Percent of Frauf transactions:{:.4f}%\".format(percent_fraud))"
   ]
  },
  {
   "cell_type": "code",
   "execution_count": 17,
   "id": "ee9bbe70",
   "metadata": {},
   "outputs": [
    {
     "data": {
      "text/plain": [
       "<function matplotlib.pyplot.show(close=None, block=None)>"
      ]
     },
     "execution_count": 17,
     "metadata": {},
     "output_type": "execute_result"
    },
    {
     "data": {
      "image/png": "[encoded data removed]",
      "text/plain": [
       "<Figure size 500x500 with 1 Axes>"
      ]
     },
     "metadata": {},
     "output_type": "display_data"
    }
   ],
   "source": [
    "plt.figure(figsize=(5,5))\n",
    "labels=[\"Legit\",\"Fraud\"]\n",
    "count=df_sample.value_counts(df_sample.isFraud,sort=True)\n",
    "count.plot(kind=\"bar\",rot=0)\n",
    "plt.title(\"visualisation of Legit and Fraud\")\n",
    "plt.ylabel(\"count\")\n",
    "plt.show"
   ]
  },
  {
   "cell_type": "markdown",
   "id": "b38bf14f",
   "metadata": {},
   "source": [
    "#### Multicolinearity"
   ]
  },
  {
   "cell_type": "code",
   "execution_count": 18,
   "id": "e6f87039",
   "metadata": {},
   "outputs": [
    {
     "data": {
      "text/plain": [
       "Index(['type', 'nameOrig', 'nameDest'], dtype='object')"
      ]
     },
     "execution_count": 18,
     "metadata": {},
     "output_type": "execute_result"
    }
   ],
   "source": [
    "#Checking for attribute of datatypes\n",
    "dtlist=df_newsample.select_dtypes(include=\"object\").columns\n",
    "dtlist"
   ]
  },
  {
   "cell_type": "markdown",
   "id": "0d01eb4b",
   "metadata": {},
   "source": [
    "So there are 3 datatypes we have.To check multicolinearity we need to encode them"
   ]
  },
  {
   "cell_type": "code",
   "execution_count": 19,
   "id": "d29715d9",
   "metadata": {},
   "outputs": [
    {
     "name": "stdout",
     "output_type": "stream",
     "text": [
      "<class 'pandas.core.frame.DataFrame'>\n",
      "Int64Index: 3181310 entries, 4888867 to 249679\n",
      "Data columns (total 11 columns):\n",
      " #   Column          Dtype  \n",
      "---  ------          -----  \n",
      " 0   step            int64  \n",
      " 1   type            int32  \n",
      " 2   amount          float64\n",
      " 3   nameOrig        int32  \n",
      " 4   oldbalanceOrg   float64\n",
      " 5   newbalanceOrig  float64\n",
      " 6   nameDest        int32  \n",
      " 7   oldbalanceDest  float64\n",
      " 8   newbalanceDest  float64\n",
      " 9   isFraud         int64  \n",
      " 10  isFlaggedFraud  int64  \n",
      "dtypes: float64(5), int32(3), int64(3)\n",
      "memory usage: 254.9 MB\n"
     ]
    }
   ],
   "source": [
    "#for label encoding\n",
    "le=LabelEncoder()\n",
    "for i in dtlist:\n",
    "    df_newsample[i]=le.fit_transform(df_newsample[i].astype(str))\n",
    "df_newsample.info()"
   ]
  },
  {
   "cell_type": "code",
   "execution_count": 20,
   "id": "fb774882",
   "metadata": {},
   "outputs": [
    {
     "data": {
      "text/html": [
       "<div>\n",
       "<style scoped>\n",
       "    .dataframe tbody tr th:only-of-type {\n",
       "        vertical-align: middle;\n",
       "    }\n",
       "\n",
       "    .dataframe tbody tr th {\n",
       "        vertical-align: top;\n",
       "    }\n",
       "\n",
       "    .dataframe thead th {\n",
       "        text-align: right;\n",
       "    }\n",
       "</style>\n",
       "<table border=\"1\" class=\"dataframe\">\n",
       "  <thead>\n",
       "    <tr style=\"text-align: right;\">\n",
       "      <th></th>\n",
       "      <th>step</th>\n",
       "      <th>type</th>\n",
       "      <th>amount</th>\n",
       "      <th>nameOrig</th>\n",
       "      <th>oldbalanceOrg</th>\n",
       "      <th>newbalanceOrig</th>\n",
       "      <th>nameDest</th>\n",
       "      <th>oldbalanceDest</th>\n",
       "      <th>newbalanceDest</th>\n",
       "      <th>isFraud</th>\n",
       "      <th>isFlaggedFraud</th>\n",
       "    </tr>\n",
       "  </thead>\n",
       "  <tbody>\n",
       "    <tr>\n",
       "      <th>4888867</th>\n",
       "      <td>349</td>\n",
       "      <td>1</td>\n",
       "      <td>61392.59</td>\n",
       "      <td>249210</td>\n",
       "      <td>0.00</td>\n",
       "      <td>0.00</td>\n",
       "      <td>310211</td>\n",
       "      <td>341965.49</td>\n",
       "      <td>403358.08</td>\n",
       "      <td>0</td>\n",
       "      <td>0</td>\n",
       "    </tr>\n",
       "    <tr>\n",
       "      <th>1916450</th>\n",
       "      <td>166</td>\n",
       "      <td>1</td>\n",
       "      <td>315006.46</td>\n",
       "      <td>2356397</td>\n",
       "      <td>55261.56</td>\n",
       "      <td>0.00</td>\n",
       "      <td>11402</td>\n",
       "      <td>3982452.89</td>\n",
       "      <td>4297459.34</td>\n",
       "      <td>0</td>\n",
       "      <td>0</td>\n",
       "    </tr>\n",
       "    <tr>\n",
       "      <th>1554924</th>\n",
       "      <td>154</td>\n",
       "      <td>3</td>\n",
       "      <td>17721.70</td>\n",
       "      <td>1938134</td>\n",
       "      <td>51911.00</td>\n",
       "      <td>34189.30</td>\n",
       "      <td>1013245</td>\n",
       "      <td>0.00</td>\n",
       "      <td>0.00</td>\n",
       "      <td>0</td>\n",
       "      <td>0</td>\n",
       "    </tr>\n",
       "    <tr>\n",
       "      <th>1635373</th>\n",
       "      <td>157</td>\n",
       "      <td>3</td>\n",
       "      <td>313.16</td>\n",
       "      <td>127583</td>\n",
       "      <td>64664.00</td>\n",
       "      <td>64350.84</td>\n",
       "      <td>1537995</td>\n",
       "      <td>0.00</td>\n",
       "      <td>0.00</td>\n",
       "      <td>0</td>\n",
       "      <td>0</td>\n",
       "    </tr>\n",
       "    <tr>\n",
       "      <th>5876207</th>\n",
       "      <td>403</td>\n",
       "      <td>3</td>\n",
       "      <td>25969.02</td>\n",
       "      <td>545865</td>\n",
       "      <td>103376.00</td>\n",
       "      <td>77406.98</td>\n",
       "      <td>1038106</td>\n",
       "      <td>0.00</td>\n",
       "      <td>0.00</td>\n",
       "      <td>0</td>\n",
       "      <td>0</td>\n",
       "    </tr>\n",
       "  </tbody>\n",
       "</table>\n",
       "</div>"
      ],
      "text/plain": [
       "         step  type     amount  nameOrig  oldbalanceOrg  newbalanceOrig  \\\n",
       "4888867   349     1   61392.59    249210           0.00            0.00   \n",
       "1916450   166     1  315006.46   2356397       55261.56            0.00   \n",
       "1554924   154     3   17721.70   1938134       51911.00        34189.30   \n",
       "1635373   157     3     313.16    127583       64664.00        64350.84   \n",
       "5876207   403     3   25969.02    545865      103376.00        77406.98   \n",
       "\n",
       "         nameDest  oldbalanceDest  newbalanceDest  isFraud  isFlaggedFraud  \n",
       "4888867    310211       341965.49       403358.08        0               0  \n",
       "1916450     11402      3982452.89      4297459.34        0               0  \n",
       "1554924   1013245            0.00            0.00        0               0  \n",
       "1635373   1537995            0.00            0.00        0               0  \n",
       "5876207   1038106            0.00            0.00        0               0  "
      ]
     },
     "execution_count": 20,
     "metadata": {},
     "output_type": "execute_result"
    }
   ],
   "source": [
    "df_newsample.head()"
   ]
  },
  {
   "cell_type": "code",
   "execution_count": 21,
   "id": "ff5ec171",
   "metadata": {},
   "outputs": [
    {
     "data": {
      "text/html": [
       "<div>\n",
       "<style scoped>\n",
       "    .dataframe tbody tr th:only-of-type {\n",
       "        vertical-align: middle;\n",
       "    }\n",
       "\n",
       "    .dataframe tbody tr th {\n",
       "        vertical-align: top;\n",
       "    }\n",
       "\n",
       "    .dataframe thead th {\n",
       "        text-align: right;\n",
       "    }\n",
       "</style>\n",
       "<table border=\"1\" class=\"dataframe\">\n",
       "  <thead>\n",
       "    <tr style=\"text-align: right;\">\n",
       "      <th></th>\n",
       "      <th>variables</th>\n",
       "      <th>VIF</th>\n",
       "    </tr>\n",
       "  </thead>\n",
       "  <tbody>\n",
       "    <tr>\n",
       "      <th>0</th>\n",
       "      <td>step</td>\n",
       "      <td>2.819031</td>\n",
       "    </tr>\n",
       "    <tr>\n",
       "      <th>1</th>\n",
       "      <td>type</td>\n",
       "      <td>4.682455</td>\n",
       "    </tr>\n",
       "    <tr>\n",
       "      <th>2</th>\n",
       "      <td>amount</td>\n",
       "      <td>4.196114</td>\n",
       "    </tr>\n",
       "    <tr>\n",
       "      <th>3</th>\n",
       "      <td>nameOrig</td>\n",
       "      <td>2.790928</td>\n",
       "    </tr>\n",
       "    <tr>\n",
       "      <th>4</th>\n",
       "      <td>oldbalanceOrg</td>\n",
       "      <td>569.936591</td>\n",
       "    </tr>\n",
       "    <tr>\n",
       "      <th>5</th>\n",
       "      <td>newbalanceOrig</td>\n",
       "      <td>575.911149</td>\n",
       "    </tr>\n",
       "    <tr>\n",
       "      <th>6</th>\n",
       "      <td>nameDest</td>\n",
       "      <td>3.957447</td>\n",
       "    </tr>\n",
       "    <tr>\n",
       "      <th>7</th>\n",
       "      <td>oldbalanceDest</td>\n",
       "      <td>73.135348</td>\n",
       "    </tr>\n",
       "    <tr>\n",
       "      <th>8</th>\n",
       "      <td>newbalanceDest</td>\n",
       "      <td>84.872561</td>\n",
       "    </tr>\n",
       "    <tr>\n",
       "      <th>9</th>\n",
       "      <td>isFraud</td>\n",
       "      <td>1.197749</td>\n",
       "    </tr>\n",
       "    <tr>\n",
       "      <th>10</th>\n",
       "      <td>isFlaggedFraud</td>\n",
       "      <td>1.002303</td>\n",
       "    </tr>\n",
       "  </tbody>\n",
       "</table>\n",
       "</div>"
      ],
      "text/plain": [
       "         variables         VIF\n",
       "0             step    2.819031\n",
       "1             type    4.682455\n",
       "2           amount    4.196114\n",
       "3         nameOrig    2.790928\n",
       "4    oldbalanceOrg  569.936591\n",
       "5   newbalanceOrig  575.911149\n",
       "6         nameDest    3.957447\n",
       "7   oldbalanceDest   73.135348\n",
       "8   newbalanceDest   84.872561\n",
       "9          isFraud    1.197749\n",
       "10  isFlaggedFraud    1.002303"
      ]
     },
     "execution_count": 21,
     "metadata": {},
     "output_type": "execute_result"
    }
   ],
   "source": [
    "def calc_vif(df_sample):\n",
    "    vif=pd.DataFrame()\n",
    "    vif[\"variables\"]=df_sample.columns\n",
    "    vif[\"VIF\"]=[variance_inflation_factor(df_sample.values,i) for i in range(df_sample.shape[1])]\n",
    "    return(vif)\n",
    "calc_vif(df_newsample)"
   ]
  },
  {
   "cell_type": "markdown",
   "id": "af08e01f",
   "metadata": {},
   "source": [
    "Here we can see that \"oldbalanceOrg\" and \"newbalanceOrig\" have high vif value,thus they are highly correlated.Also \"oldbalanceDest\" and \"newbalanceDest\" and nameDest and nameOrig is also connected.So combine these pairs of collinear attributes and drop the individually."
   ]
  },
  {
   "cell_type": "code",
   "execution_count": 22,
   "id": "0d9e06be",
   "metadata": {},
   "outputs": [],
   "source": [
    "df_newsample[\"Actual_amount_orig\"]=df_newsample.apply(lambda x: x[\"oldbalanceOrg\"]-x[\"newbalanceOrig\"],axis=1)"
   ]
  },
  {
   "cell_type": "code",
   "execution_count": 23,
   "id": "786fca46",
   "metadata": {},
   "outputs": [],
   "source": [
    "df_newsample[\"Actual_amount_dest\"]=df_newsample.apply(lambda x: x[\"oldbalanceDest\"]-x[\"newbalanceDest\"],axis=1)"
   ]
  },
  {
   "cell_type": "code",
   "execution_count": 24,
   "id": "6581bc59",
   "metadata": {},
   "outputs": [],
   "source": [
    "df_newsample[\"TransactionPath\"]=df_newsample.apply(lambda x: x[\"nameOrig\"]+x[\"nameDest\"],axis=1)"
   ]
  },
  {
   "cell_type": "code",
   "execution_count": 25,
   "id": "f6995df8",
   "metadata": {},
   "outputs": [],
   "source": [
    "#For dropping columns\n",
    "df_newsample=df_newsample.drop([\"oldbalanceOrg\",\"newbalanceOrig\",\"oldbalanceDest\",\"newbalanceDest\",\"step\",\"nameOrig\",\"nameDest\"],axis=1)"
   ]
  },
  {
   "cell_type": "code",
   "execution_count": 26,
   "id": "c5ddfde3",
   "metadata": {},
   "outputs": [
    {
     "data": {
      "text/html": [
       "<div>\n",
       "<style scoped>\n",
       "    .dataframe tbody tr th:only-of-type {\n",
       "        vertical-align: middle;\n",
       "    }\n",
       "\n",
       "    .dataframe tbody tr th {\n",
       "        vertical-align: top;\n",
       "    }\n",
       "\n",
       "    .dataframe thead th {\n",
       "        text-align: right;\n",
       "    }\n",
       "</style>\n",
       "<table border=\"1\" class=\"dataframe\">\n",
       "  <thead>\n",
       "    <tr style=\"text-align: right;\">\n",
       "      <th></th>\n",
       "      <th>variables</th>\n",
       "      <th>VIF</th>\n",
       "    </tr>\n",
       "  </thead>\n",
       "  <tbody>\n",
       "    <tr>\n",
       "      <th>0</th>\n",
       "      <td>type</td>\n",
       "      <td>2.817546</td>\n",
       "    </tr>\n",
       "    <tr>\n",
       "      <th>1</th>\n",
       "      <td>amount</td>\n",
       "      <td>3.869286</td>\n",
       "    </tr>\n",
       "    <tr>\n",
       "      <th>2</th>\n",
       "      <td>isFraud</td>\n",
       "      <td>1.187300</td>\n",
       "    </tr>\n",
       "    <tr>\n",
       "      <th>3</th>\n",
       "      <td>isFlaggedFraud</td>\n",
       "      <td>1.002269</td>\n",
       "    </tr>\n",
       "    <tr>\n",
       "      <th>4</th>\n",
       "      <td>Actual_amount_orig</td>\n",
       "      <td>1.312022</td>\n",
       "    </tr>\n",
       "    <tr>\n",
       "      <th>5</th>\n",
       "      <td>Actual_amount_dest</td>\n",
       "      <td>3.806395</td>\n",
       "    </tr>\n",
       "    <tr>\n",
       "      <th>6</th>\n",
       "      <td>TransactionPath</td>\n",
       "      <td>2.806926</td>\n",
       "    </tr>\n",
       "  </tbody>\n",
       "</table>\n",
       "</div>"
      ],
      "text/plain": [
       "            variables       VIF\n",
       "0                type  2.817546\n",
       "1              amount  3.869286\n",
       "2             isFraud  1.187300\n",
       "3      isFlaggedFraud  1.002269\n",
       "4  Actual_amount_orig  1.312022\n",
       "5  Actual_amount_dest  3.806395\n",
       "6     TransactionPath  2.806926"
      ]
     },
     "execution_count": 26,
     "metadata": {},
     "output_type": "execute_result"
    }
   ],
   "source": [
    "calc_vif(df_newsample)"
   ]
  },
  {
   "cell_type": "code",
   "execution_count": 27,
   "id": "1438ce50",
   "metadata": {},
   "outputs": [
    {
     "data": {
      "text/plain": [
       "<AxesSubplot:>"
      ]
     },
     "execution_count": 27,
     "metadata": {},
     "output_type": "execute_result"
    },
    {
     "data": {
      "image/png": "[encoded data removed]",
      "text/plain": [
       "<Figure size 2000x1500 with 2 Axes>"
      ]
     },
     "metadata": {},
     "output_type": "display_data"
    }
   ],
   "source": [
    "plt.figure(figsize=(20,15))\n",
    "sns.heatmap(df_newsample.corr(),cbar=True,annot=True,cmap=\"Blues\")"
   ]
  },
  {
   "cell_type": "markdown",
   "id": "99e7b3df",
   "metadata": {},
   "source": [
    "### 3. How did you select variables to be included in the model?\n",
    "\n",
    "    Using VIF values and correlation we need to check whether there any two elements are highly correlated to each other and then drop the one which is less correlated to isFraud."
   ]
  },
  {
   "cell_type": "markdown",
   "id": "b18e1b6c",
   "metadata": {},
   "source": [
    "### 2.Describe your fraud detection model in elaboration. "
   ]
  },
  {
   "cell_type": "markdown",
   "id": "6ede3441",
   "metadata": {},
   "source": [
    "#### Model Building"
   ]
  },
  {
   "cell_type": "code",
   "execution_count": 28,
   "id": "8580c59e",
   "metadata": {},
   "outputs": [],
   "source": [
    "# Perform Scaling\n",
    "scaler=StandardScaler()\n",
    "df_newsample[\"normalizedAmount\"]=scaler.fit_transform(df_sample[\"amount\"].values.reshape(-1,1))\n",
    "df_newsample.drop([\"amount\"],inplace=True,axis=1)\n",
    "Y=df_newsample[\"isFraud\"]\n",
    "X=df_newsample.drop([\"isFraud\"],axis=1)"
   ]
  },
  {
   "cell_type": "markdown",
   "id": "0fef735e",
   "metadata": {},
   "source": [
    "### Train_Test Split"
   ]
  },
  {
   "cell_type": "code",
   "execution_count": 29,
   "id": "1cf60da8",
   "metadata": {},
   "outputs": [
    {
     "name": "stdout",
     "output_type": "stream",
     "text": [
      "Shape of X_train: (2131477, 6)\n",
      "Shape of X_test: (1049833, 6)\n"
     ]
    }
   ],
   "source": [
    "#Split the data\n",
    "(X_train,X_test,Y_train,Y_test)=train_test_split(X,Y,test_size=0.33,random_state=4,stratify=Y)\n",
    "print(\"Shape of X_train:\",X_train.shape)\n",
    "print(\"Shape of X_test:\",X_test.shape)"
   ]
  },
  {
   "cell_type": "code",
   "execution_count": 52,
   "id": "3fc0a481",
   "metadata": {},
   "outputs": [
    {
     "data": {
      "text/plain": [
       "1744224    0\n",
       "1528984    0\n",
       "3123589    0\n",
       "5027074    0\n",
       "3738830    0\n",
       "          ..\n",
       "3459289    0\n",
       "4965880    0\n",
       "5241634    0\n",
       "5019037    0\n",
       "4483916    0\n",
       "Name: isFraud, Length: 2131477, dtype: int64"
      ]
     },
     "execution_count": 52,
     "metadata": {},
     "output_type": "execute_result"
    }
   ],
   "source": [
    "Y_train"
   ]
  },
  {
   "cell_type": "markdown",
   "id": "902a19d7",
   "metadata": {},
   "source": [
    "#### Feature Engineering\n",
    "    \n",
    "    This process will transform raw data into useful features that help us to understand our model and increase its predictive power"
   ]
  },
  {
   "cell_type": "code",
   "execution_count": 30,
   "id": "896de240",
   "metadata": {},
   "outputs": [
    {
     "data": {
      "text/plain": [
       "type                    int32\n",
       "isFlaggedFraud          int64\n",
       "Actual_amount_orig    float64\n",
       "Actual_amount_dest    float64\n",
       "TransactionPath       float64\n",
       "normalizedAmount      float64\n",
       "dtype: object"
      ]
     },
     "execution_count": 30,
     "metadata": {},
     "output_type": "execute_result"
    }
   ],
   "source": [
    "# Check the data types of X_train\n",
    "X_train.dtypes"
   ]
  },
  {
   "cell_type": "markdown",
   "id": "f1fa3ae9",
   "metadata": {},
   "source": [
    "All variables are ordinal categorical datatype"
   ]
  },
  {
   "cell_type": "code",
   "execution_count": 31,
   "id": "0cb28375",
   "metadata": {},
   "outputs": [
    {
     "data": {
      "text/html": [
       "<div>\n",
       "<style scoped>\n",
       "    .dataframe tbody tr th:only-of-type {\n",
       "        vertical-align: middle;\n",
       "    }\n",
       "\n",
       "    .dataframe tbody tr th {\n",
       "        vertical-align: top;\n",
       "    }\n",
       "\n",
       "    .dataframe thead th {\n",
       "        text-align: right;\n",
       "    }\n",
       "</style>\n",
       "<table border=\"1\" class=\"dataframe\">\n",
       "  <thead>\n",
       "    <tr style=\"text-align: right;\">\n",
       "      <th></th>\n",
       "      <th>type</th>\n",
       "      <th>isFlaggedFraud</th>\n",
       "      <th>Actual_amount_orig</th>\n",
       "      <th>Actual_amount_dest</th>\n",
       "      <th>TransactionPath</th>\n",
       "      <th>normalizedAmount</th>\n",
       "    </tr>\n",
       "  </thead>\n",
       "  <tbody>\n",
       "    <tr>\n",
       "      <th>1744224</th>\n",
       "      <td>0</td>\n",
       "      <td>0</td>\n",
       "      <td>-146070.61</td>\n",
       "      <td>146070.61</td>\n",
       "      <td>628459.0</td>\n",
       "      <td>-0.056215</td>\n",
       "    </tr>\n",
       "    <tr>\n",
       "      <th>1528984</th>\n",
       "      <td>0</td>\n",
       "      <td>0</td>\n",
       "      <td>-151052.36</td>\n",
       "      <td>151052.36</td>\n",
       "      <td>1590380.0</td>\n",
       "      <td>-0.047992</td>\n",
       "    </tr>\n",
       "    <tr>\n",
       "      <th>3123589</th>\n",
       "      <td>3</td>\n",
       "      <td>0</td>\n",
       "      <td>3340.49</td>\n",
       "      <td>0.00</td>\n",
       "      <td>3947879.0</td>\n",
       "      <td>-0.291829</td>\n",
       "    </tr>\n",
       "    <tr>\n",
       "      <th>5027074</th>\n",
       "      <td>1</td>\n",
       "      <td>0</td>\n",
       "      <td>0.00</td>\n",
       "      <td>-675.51</td>\n",
       "      <td>2755094.0</td>\n",
       "      <td>-0.296228</td>\n",
       "    </tr>\n",
       "    <tr>\n",
       "      <th>3738830</th>\n",
       "      <td>3</td>\n",
       "      <td>0</td>\n",
       "      <td>5377.69</td>\n",
       "      <td>0.00</td>\n",
       "      <td>1278970.0</td>\n",
       "      <td>-0.288466</td>\n",
       "    </tr>\n",
       "  </tbody>\n",
       "</table>\n",
       "</div>"
      ],
      "text/plain": [
       "         type  isFlaggedFraud  Actual_amount_orig  Actual_amount_dest  \\\n",
       "1744224     0               0          -146070.61           146070.61   \n",
       "1528984     0               0          -151052.36           151052.36   \n",
       "3123589     3               0             3340.49                0.00   \n",
       "5027074     1               0                0.00             -675.51   \n",
       "3738830     3               0             5377.69                0.00   \n",
       "\n",
       "         TransactionPath  normalizedAmount  \n",
       "1744224         628459.0         -0.056215  \n",
       "1528984        1590380.0         -0.047992  \n",
       "3123589        3947879.0         -0.291829  \n",
       "5027074        2755094.0         -0.296228  \n",
       "3738830        1278970.0         -0.288466  "
      ]
     },
     "execution_count": 31,
     "metadata": {},
     "output_type": "execute_result"
    }
   ],
   "source": [
    "X_train.head()"
   ]
  },
  {
   "cell_type": "code",
   "execution_count": 32,
   "id": "3d3442dc",
   "metadata": {},
   "outputs": [
    {
     "data": {
      "text/plain": [
       "type                    int32\n",
       "isFlaggedFraud          int64\n",
       "Actual_amount_orig    float64\n",
       "Actual_amount_dest    float64\n",
       "TransactionPath       float64\n",
       "normalizedAmount      float64\n",
       "dtype: object"
      ]
     },
     "execution_count": 32,
     "metadata": {},
     "output_type": "execute_result"
    }
   ],
   "source": [
    "X_test.dtypes"
   ]
  },
  {
   "cell_type": "code",
   "execution_count": 33,
   "id": "8b027a4a",
   "metadata": {},
   "outputs": [
    {
     "data": {
      "text/html": [
       "<div>\n",
       "<style scoped>\n",
       "    .dataframe tbody tr th:only-of-type {\n",
       "        vertical-align: middle;\n",
       "    }\n",
       "\n",
       "    .dataframe tbody tr th {\n",
       "        vertical-align: top;\n",
       "    }\n",
       "\n",
       "    .dataframe thead th {\n",
       "        text-align: right;\n",
       "    }\n",
       "</style>\n",
       "<table border=\"1\" class=\"dataframe\">\n",
       "  <thead>\n",
       "    <tr style=\"text-align: right;\">\n",
       "      <th></th>\n",
       "      <th>type</th>\n",
       "      <th>isFlaggedFraud</th>\n",
       "      <th>Actual_amount_orig</th>\n",
       "      <th>Actual_amount_dest</th>\n",
       "      <th>TransactionPath</th>\n",
       "      <th>normalizedAmount</th>\n",
       "    </tr>\n",
       "  </thead>\n",
       "  <tbody>\n",
       "    <tr>\n",
       "      <th>3087512</th>\n",
       "      <td>1</td>\n",
       "      <td>0</td>\n",
       "      <td>42135.47</td>\n",
       "      <td>-42135.47</td>\n",
       "      <td>3466579.0</td>\n",
       "      <td>-0.227788</td>\n",
       "    </tr>\n",
       "    <tr>\n",
       "      <th>806762</th>\n",
       "      <td>3</td>\n",
       "      <td>0</td>\n",
       "      <td>0.00</td>\n",
       "      <td>0.00</td>\n",
       "      <td>3310526.0</td>\n",
       "      <td>-0.287507</td>\n",
       "    </tr>\n",
       "    <tr>\n",
       "      <th>824914</th>\n",
       "      <td>0</td>\n",
       "      <td>0</td>\n",
       "      <td>-201794.05</td>\n",
       "      <td>201794.05</td>\n",
       "      <td>1171332.0</td>\n",
       "      <td>0.035771</td>\n",
       "    </tr>\n",
       "    <tr>\n",
       "      <th>6100842</th>\n",
       "      <td>1</td>\n",
       "      <td>0</td>\n",
       "      <td>0.00</td>\n",
       "      <td>-212256.80</td>\n",
       "      <td>1391483.0</td>\n",
       "      <td>0.053042</td>\n",
       "    </tr>\n",
       "    <tr>\n",
       "      <th>1307009</th>\n",
       "      <td>0</td>\n",
       "      <td>0</td>\n",
       "      <td>-83184.23</td>\n",
       "      <td>83184.23</td>\n",
       "      <td>2377063.0</td>\n",
       "      <td>-0.160026</td>\n",
       "    </tr>\n",
       "  </tbody>\n",
       "</table>\n",
       "</div>"
      ],
      "text/plain": [
       "         type  isFlaggedFraud  Actual_amount_orig  Actual_amount_dest  \\\n",
       "3087512     1               0            42135.47           -42135.47   \n",
       "806762      3               0                0.00                0.00   \n",
       "824914      0               0          -201794.05           201794.05   \n",
       "6100842     1               0                0.00          -212256.80   \n",
       "1307009     0               0           -83184.23            83184.23   \n",
       "\n",
       "         TransactionPath  normalizedAmount  \n",
       "3087512        3466579.0         -0.227788  \n",
       "806762         3310526.0         -0.287507  \n",
       "824914         1171332.0          0.035771  \n",
       "6100842        1391483.0          0.053042  \n",
       "1307009        2377063.0         -0.160026  "
      ]
     },
     "execution_count": 33,
     "metadata": {},
     "output_type": "execute_result"
    }
   ],
   "source": [
    "X_test.head()"
   ]
  },
  {
   "cell_type": "code",
   "execution_count": 34,
   "id": "ab9b9185",
   "metadata": {},
   "outputs": [
    {
     "name": "stdout",
     "output_type": "stream",
     "text": [
      "Defaulting to user installation because normal site-packages is not writeable\n",
      "Requirement already satisfied: category_encoders in c:\\users\\sajith\\appdata\\roaming\\python\\python39\\site-packages (2.6.3)\n",
      "Requirement already satisfied: numpy>=1.14.0 in c:\\users\\sajith\\appdata\\roaming\\python\\python39\\site-packages (from category_encoders) (1.24.4)\n",
      "Requirement already satisfied: pandas>=1.0.5 in e:\\python\\anaconda\\lib\\site-packages (from category_encoders) (1.4.4)\n",
      "Requirement already satisfied: scikit-learn>=0.20.0 in e:\\python\\anaconda\\lib\\site-packages (from category_encoders) (1.0.2)\n",
      "Requirement already satisfied: patsy>=0.5.1 in e:\\python\\anaconda\\lib\\site-packages (from category_encoders) (0.5.2)\n",
      "Requirement already satisfied: statsmodels>=0.9.0 in e:\\python\\anaconda\\lib\\site-packages (from category_encoders) (0.13.2)\n",
      "Requirement already satisfied: scipy>=1.0.0 in e:\\python\\anaconda\\lib\\site-packages (from category_encoders) (1.9.1)\n",
      "Requirement already satisfied: python-dateutil>=2.8.1 in e:\\python\\anaconda\\lib\\site-packages (from pandas>=1.0.5->category_encoders) (2.8.2)\n",
      "Requirement already satisfied: pytz>=2020.1 in e:\\python\\anaconda\\lib\\site-packages (from pandas>=1.0.5->category_encoders) (2022.1)\n",
      "Requirement already satisfied: six in e:\\python\\anaconda\\lib\\site-packages (from patsy>=0.5.1->category_encoders) (1.16.0)\n",
      "Requirement already satisfied: joblib>=0.11 in e:\\python\\anaconda\\lib\\site-packages (from scikit-learn>=0.20.0->category_encoders) (1.1.0)\n",
      "Requirement already satisfied: threadpoolctl>=2.0.0 in e:\\python\\anaconda\\lib\\site-packages (from scikit-learn>=0.20.0->category_encoders) (2.2.0)\n",
      "Requirement already satisfied: packaging>=21.3 in e:\\python\\anaconda\\lib\\site-packages (from statsmodels>=0.9.0->category_encoders) (21.3)\n",
      "Requirement already satisfied: pyparsing!=3.0.5,>=2.0.2 in e:\\python\\anaconda\\lib\\site-packages (from packaging>=21.3->statsmodels>=0.9.0->category_encoders) (3.0.9)\n",
      "Note: you may need to restart the kernel to use updated packages.\n"
     ]
    }
   ],
   "source": [
    "pip install category_encoders"
   ]
  },
  {
   "cell_type": "code",
   "execution_count": 35,
   "id": "0c015eac",
   "metadata": {},
   "outputs": [],
   "source": [
    "import category_encoders as ce"
   ]
  },
  {
   "cell_type": "code",
   "execution_count": 36,
   "id": "ab034dee",
   "metadata": {},
   "outputs": [
    {
     "data": {
      "text/plain": [
       "Index(['type', 'isFlaggedFraud', 'Actual_amount_orig', 'Actual_amount_dest',\n",
       "       'TransactionPath', 'normalizedAmount'],\n",
       "      dtype='object')"
      ]
     },
     "execution_count": 36,
     "metadata": {},
     "output_type": "execute_result"
    }
   ],
   "source": [
    "X_train.columns"
   ]
  },
  {
   "cell_type": "code",
   "execution_count": 37,
   "id": "a6c3b7f8",
   "metadata": {},
   "outputs": [],
   "source": [
    "encoder=ce.OrdinalEncoder(cols=['type', 'isFlaggedFraud', 'Actual_amount_orig', 'Actual_amount_dest','TransactionPath', 'normalizedAmount'])"
   ]
  },
  {
   "cell_type": "code",
   "execution_count": 38,
   "id": "4f13a14a",
   "metadata": {},
   "outputs": [],
   "source": [
    "X_train=encoder.fit_transform(X_train)\n",
    "X_test=encoder.transform(X_test)"
   ]
  },
  {
   "cell_type": "code",
   "execution_count": 39,
   "id": "74ecb1b8",
   "metadata": {},
   "outputs": [
    {
     "data": {
      "text/html": [
       "<div>\n",
       "<style scoped>\n",
       "    .dataframe tbody tr th:only-of-type {\n",
       "        vertical-align: middle;\n",
       "    }\n",
       "\n",
       "    .dataframe tbody tr th {\n",
       "        vertical-align: top;\n",
       "    }\n",
       "\n",
       "    .dataframe thead th {\n",
       "        text-align: right;\n",
       "    }\n",
       "</style>\n",
       "<table border=\"1\" class=\"dataframe\">\n",
       "  <thead>\n",
       "    <tr style=\"text-align: right;\">\n",
       "      <th></th>\n",
       "      <th>type</th>\n",
       "      <th>isFlaggedFraud</th>\n",
       "      <th>Actual_amount_orig</th>\n",
       "      <th>Actual_amount_dest</th>\n",
       "      <th>TransactionPath</th>\n",
       "      <th>normalizedAmount</th>\n",
       "    </tr>\n",
       "  </thead>\n",
       "  <tbody>\n",
       "    <tr>\n",
       "      <th>1744224</th>\n",
       "      <td>1</td>\n",
       "      <td>1</td>\n",
       "      <td>1</td>\n",
       "      <td>1</td>\n",
       "      <td>1</td>\n",
       "      <td>1</td>\n",
       "    </tr>\n",
       "    <tr>\n",
       "      <th>1528984</th>\n",
       "      <td>1</td>\n",
       "      <td>1</td>\n",
       "      <td>2</td>\n",
       "      <td>2</td>\n",
       "      <td>2</td>\n",
       "      <td>2</td>\n",
       "    </tr>\n",
       "    <tr>\n",
       "      <th>3123589</th>\n",
       "      <td>2</td>\n",
       "      <td>1</td>\n",
       "      <td>3</td>\n",
       "      <td>3</td>\n",
       "      <td>3</td>\n",
       "      <td>3</td>\n",
       "    </tr>\n",
       "    <tr>\n",
       "      <th>5027074</th>\n",
       "      <td>3</td>\n",
       "      <td>1</td>\n",
       "      <td>4</td>\n",
       "      <td>4</td>\n",
       "      <td>4</td>\n",
       "      <td>4</td>\n",
       "    </tr>\n",
       "    <tr>\n",
       "      <th>3738830</th>\n",
       "      <td>2</td>\n",
       "      <td>1</td>\n",
       "      <td>5</td>\n",
       "      <td>3</td>\n",
       "      <td>5</td>\n",
       "      <td>5</td>\n",
       "    </tr>\n",
       "  </tbody>\n",
       "</table>\n",
       "</div>"
      ],
      "text/plain": [
       "         type  isFlaggedFraud  Actual_amount_orig  Actual_amount_dest  \\\n",
       "1744224     1               1                   1                   1   \n",
       "1528984     1               1                   2                   2   \n",
       "3123589     2               1                   3                   3   \n",
       "5027074     3               1                   4                   4   \n",
       "3738830     2               1                   5                   3   \n",
       "\n",
       "         TransactionPath  normalizedAmount  \n",
       "1744224                1                 1  \n",
       "1528984                2                 2  \n",
       "3123589                3                 3  \n",
       "5027074                4                 4  \n",
       "3738830                5                 5  "
      ]
     },
     "execution_count": 39,
     "metadata": {},
     "output_type": "execute_result"
    }
   ],
   "source": [
    "X_train.head()"
   ]
  },
  {
   "cell_type": "markdown",
   "id": "7877766f",
   "metadata": {},
   "source": [
    "### 4. Demonstrate the performance of the model by using best set of tools."
   ]
  },
  {
   "cell_type": "markdown",
   "id": "e718908d",
   "metadata": {},
   "source": [
    "### Model Selection Using Voting Classifier\n"
   ]
  },
  {
   "cell_type": "code",
   "execution_count": 89,
   "id": "3352c3e2",
   "metadata": {},
   "outputs": [],
   "source": [
    "from sklearn.ensemble import VotingClassifier\n",
    "from sklearn.linear_model import LogisticRegression\n",
    "from sklearn.ensemble import RandomForestClassifier\n",
    "from sklearn.tree import DecisionTreeClassifier\n",
    "from sklearn.preprocessing import MinMaxScaler\n",
    "from sklearn import metrics"
   ]
  },
  {
   "cell_type": "code",
   "execution_count": 88,
   "id": "e0de4ddd",
   "metadata": {},
   "outputs": [],
   "source": [
    "model1=LogisticRegression()\n",
    "model2=RandomForestClassifier()\n",
    "model3=DecisionTreeClassifier()\n",
    "\n",
    "voting_cl=VotingClassifier(estimators=[(\"lr\",model1),(\"rf\",model2),(\"dtm\",model3)],voting=\"hard\")"
   ]
  },
  {
   "cell_type": "code",
   "execution_count": 42,
   "id": "e2c7915f",
   "metadata": {},
   "outputs": [
    {
     "data": {
      "text/plain": [
       "VotingClassifier(estimators=[('lr', LogisticRegression()),\n",
       "                             ('rf', RandomForestClassifier()),\n",
       "                             ('dtm', DecisionTreeClassifier())])"
      ]
     },
     "execution_count": 42,
     "metadata": {},
     "output_type": "execute_result"
    }
   ],
   "source": [
    "voting_cl.fit(X_train,Y_train)"
   ]
  },
  {
   "cell_type": "code",
   "execution_count": 49,
   "id": "897f8f18",
   "metadata": {},
   "outputs": [],
   "source": [
    "from sklearn.metrics import accuracy_score\n",
    "from sklearn.model_selection import cross_val_score"
   ]
  },
  {
   "cell_type": "code",
   "execution_count": 45,
   "id": "5716b252",
   "metadata": {},
   "outputs": [],
   "source": [
    "voting_pred=voting_cl.predict(X_test)\n",
    "accuracy=accuracy_score(Y_test,voting_pred)"
   ]
  },
  {
   "cell_type": "code",
   "execution_count": 46,
   "id": "697bf49c",
   "metadata": {},
   "outputs": [
    {
     "data": {
      "text/plain": [
       "0.9737234398232861"
      ]
     },
     "execution_count": 46,
     "metadata": {},
     "output_type": "execute_result"
    }
   ],
   "source": [
    "accuracy"
   ]
  },
  {
   "cell_type": "markdown",
   "id": "c8d0c168",
   "metadata": {},
   "source": [
    "### Model Evaluation"
   ]
  },
  {
   "cell_type": "code",
   "execution_count": 54,
   "id": "d36b161c",
   "metadata": {},
   "outputs": [
    {
     "name": "stdout",
     "output_type": "stream",
     "text": [
      "Accuracy: (0.9987154447364283, 'lr')\n",
      "Accuracy: (0.9979859032449189, 'rf')\n",
      "Accuracy: (0.9938085216118316, 'dtm')\n"
     ]
    }
   ],
   "source": [
    "# Voting Classifier using Cross_validation\n",
    "for clf, label in zip([model1,model2,model3],['lr','rf','dtm']):\n",
    "    scores=cross_val_score(clf,X_train,Y_train,scoring=\"accuracy\",cv=3)\n",
    "    print(\"Accuracy:\",(scores.mean(),label))"
   ]
  },
  {
   "cell_type": "code",
   "execution_count": 59,
   "id": "cfd2bddb",
   "metadata": {},
   "outputs": [
    {
     "data": {
      "text/plain": [
       "0.9987150337244114"
      ]
     },
     "execution_count": 59,
     "metadata": {},
     "output_type": "execute_result"
    }
   ],
   "source": [
    "#Solo Logistic Regression Accuracy\n",
    "from sklearn.linear_model import LogisticRegression\n",
    "lrc=LogisticRegression()\n",
    "lrc.fit(X_train,Y_train)\n",
    "lrc_pred=lrc.predict(X_test)\n",
    "accuracy=accuracy_score(Y_test,lrc_pred)\n",
    "accuracy"
   ]
  },
  {
   "cell_type": "code",
   "execution_count": 57,
   "id": "1f1b670c",
   "metadata": {},
   "outputs": [
    {
     "data": {
      "text/plain": [
       "0.9706543802680998"
      ]
     },
     "execution_count": 57,
     "metadata": {},
     "output_type": "execute_result"
    }
   ],
   "source": [
    "#Solo Random_Forest Accuracy\n",
    "from sklearn.ensemble import RandomForestClassifier\n",
    "rfc=RandomForestClassifier()\n",
    "rfc.fit(X_train,Y_train)\n",
    "rfc_pred=rfc.predict(X_test)\n",
    "accuracy=accuracy_score(Y_test,rfc_pred)\n",
    "accuracy"
   ]
  },
  {
   "cell_type": "code",
   "execution_count": 62,
   "id": "084c4fad",
   "metadata": {},
   "outputs": [
    {
     "data": {
      "text/plain": [
       "0.9733681452192873"
      ]
     },
     "execution_count": 62,
     "metadata": {},
     "output_type": "execute_result"
    }
   ],
   "source": [
    "#Solo Decisiom_Tree Accuracy\n",
    "from sklearn.tree import DecisionTreeClassifier\n",
    "dtc=RandomForestClassifier()\n",
    "dtc.fit(X_train,Y_train)\n",
    "dtc_pred=dtc.predict(X_test)\n",
    "accuracy=accuracy_score(Y_test,dtc_pred)\n",
    "accuracy"
   ]
  },
  {
   "cell_type": "markdown",
   "id": "daa611e5",
   "metadata": {},
   "source": [
    "From above we can see only Logic Regression Shows more accuracy.So we can consider only LogicRegression."
   ]
  },
  {
   "cell_type": "markdown",
   "id": "8543f4d7",
   "metadata": {},
   "source": [
    "### Confusion Matrix"
   ]
  },
  {
   "cell_type": "code",
   "execution_count": 81,
   "id": "7fc6552f",
   "metadata": {},
   "outputs": [],
   "source": [
    "from sklearn.metrics import plot_confusion_matrix\n",
    "from sklearn.ensemble import BaggingClassifier "
   ]
  },
  {
   "cell_type": "code",
   "execution_count": 77,
   "id": "a3e9ac95",
   "metadata": {},
   "outputs": [],
   "source": [
    "lrf=model1.fit(X_train,Y_train)"
   ]
  },
  {
   "cell_type": "code",
   "execution_count": 78,
   "id": "6f2ad7a6",
   "metadata": {},
   "outputs": [],
   "source": [
    "Y_pred=model1.predict(X_test)"
   ]
  },
  {
   "cell_type": "code",
   "execution_count": 79,
   "id": "49feb745",
   "metadata": {},
   "outputs": [
    {
     "name": "stdout",
     "output_type": "stream",
     "text": [
      "accuracy 0.9987150337244114\n"
     ]
    }
   ],
   "source": [
    "print(\"accuracy\",metrics.accuracy_score(Y_test,Y_pred))"
   ]
  },
  {
   "cell_type": "code",
   "execution_count": 83,
   "id": "6b010e6a",
   "metadata": {},
   "outputs": [
    {
     "name": "stderr",
     "output_type": "stream",
     "text": [
      "E:\\python\\anaconda\\lib\\site-packages\\sklearn\\utils\\deprecation.py:87: FutureWarning: Function plot_confusion_matrix is deprecated; Function `plot_confusion_matrix` is deprecated in 1.0 and will be removed in 1.2. Use one of the class methods: ConfusionMatrixDisplay.from_predictions or ConfusionMatrixDisplay.from_estimator.\n",
      "  warnings.warn(msg, category=FutureWarning)\n"
     ]
    },
    {
     "data": {
      "text/plain": [
       "<sklearn.metrics._plot.confusion_matrix.ConfusionMatrixDisplay at 0x1b320327c10>"
      ]
     },
     "execution_count": 83,
     "metadata": {},
     "output_type": "execute_result"
    },
    {
     "data": {
      "image/png": "[encoded data removed]",
      "text/plain": [
       "<Figure size 640x480 with 2 Axes>"
      ]
     },
     "metadata": {},
     "output_type": "display_data"
    }
   ],
   "source": [
    "plot_confusion_matrix(lrf,X_test,Y_test,cmap=plt.cm.Blues)"
   ]
  },
  {
   "cell_type": "code",
   "execution_count": 100,
   "id": "0b1ff9de",
   "metadata": {},
   "outputs": [],
   "source": [
    "lrclf=LogisticRegression(max_iter=100,random_state=1)\n",
    "Baggingclf=BaggingClassifier(base_estimator=lrclf,n_estimators=501,random_state=1)"
   ]
  },
  {
   "cell_type": "code",
   "execution_count": 101,
   "id": "740bb47c",
   "metadata": {},
   "outputs": [
    {
     "name": "stdout",
     "output_type": "stream",
     "text": [
      "Baagging train/test accuracies 0.999/0.964\n"
     ]
    }
   ],
   "source": [
    "Baggingclf=Baggingclf.fit(X_train,Y_train)\n",
    "Y_trainpredict=Baggingclf.predict(X_train)\n",
    "Y_testpredict=Baggingclf.predict(X_test)\n",
    "bag_train=accuracy_score(Y_train,Y_trainpredict)\n",
    "bag_test=accuracy_score(Y_test,Y_testpredict)\n",
    "print(\"Baagging train/test accuracies %.3f/%.3f\"% (bag_train,bag_test))"
   ]
  },
  {
   "cell_type": "code",
   "execution_count": 103,
   "id": "112ecd6d",
   "metadata": {},
   "outputs": [
    {
     "name": "stdout",
     "output_type": "stream",
     "text": [
      "              precision    recall  f1-score   support\n",
      "\n",
      "           0       1.00      0.96      0.98   1048484\n",
      "           1       0.00      0.00      0.00      1349\n",
      "\n",
      "    accuracy                           0.96   1049833\n",
      "   macro avg       0.50      0.48      0.49   1049833\n",
      "weighted avg       1.00      0.96      0.98   1049833\n",
      "\n"
     ]
    }
   ],
   "source": [
    "print(classification_report(Y_test,Y_testpredict))"
   ]
  },
  {
   "cell_type": "markdown",
   "id": "b8413138",
   "metadata": {},
   "source": [
    "### 5. What are the key factors that predict fraudulent customer? \n",
    "\n",
    "    1.Check the name of organisation before transaction of money is legit or not\n",
    "    2.Check the source of request is secured or not\n",
    "    3.Check the history of vendors"
   ]
  },
  {
   "cell_type": "markdown",
   "id": "c70edae8",
   "metadata": {},
   "source": [
    "### 6.Do these factors make sense? If yes, How? If not, How not? \n",
    "\n",
    "    1.Ask more questions about the organisation and the details of person who is reporting\n",
    "    2.Double check the source of request with organization's relavant Staff\n",
    "    3. Keep the details of account securly\n",
    "  "
   ]
  },
  {
   "cell_type": "markdown",
   "id": "67b59324",
   "metadata": {},
   "source": [
    "### 7. What kind of prevention should be adopted while company update its infrastructure?\n",
    "\n",
    "    1.Use secured connection while browsing\n",
    "    2.Keep devices which are using for transaction are security updated\n",
    "    3.Ignore unwanted calls and Mails\n",
    "    4.Use secured app\n",
    "    5.Double check with relavant organisation before transction\n",
    "\n",
    "    "
   ]
  },
  {
   "cell_type": "markdown",
   "id": "0fc6083c",
   "metadata": {},
   "source": [
    "### 8.Assuming these actions have been implemented, how would you determine if they work?\n",
    "\n",
    "    1.Keep the paid log updated\n",
    "    2.Frequent checking of account statement\n",
    "    "
   ]
  },
  {
   "cell_type": "code",
   "execution_count": null,
   "id": "5553006e",
   "metadata": {},
   "outputs": [],
   "source": []
  }
 ],
 "metadata": {
  "kernelspec": {
   "display_name": "Python 3 (ipykernel)",
   "language": "python",
   "name": "python3"
  },
  "language_info": {
   "codemirror_mode": {
    "name": "ipython",
    "version": 3
   },
   "file_extension": ".py",
   "mimetype": "text/x-python",
   "name": "python",
   "nbconvert_exporter": "python",
   "pygments_lexer": "ipython3",
   "version": "3.9.13"
  }
 },
 "nbformat": 4,
 "nbformat_minor": 5
}
